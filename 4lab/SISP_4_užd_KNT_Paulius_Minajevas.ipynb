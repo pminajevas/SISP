{
  "nbformat": 4,
  "nbformat_minor": 0,
  "metadata": {
    "colab": {
      "provenance": [],
      "gpuType": "T4"
    },
    "kernelspec": {
      "name": "python3",
      "display_name": "Python 3"
    },
    "language_info": {
      "name": "python"
    },
    "accelerator": "GPU"
  },
  "cells": [
    {
      "cell_type": "code",
      "source": [
        "import torch\n",
        "device = torch.device('cuda:0' if torch.cuda.is_available() else 'cpu')\n",
        "print(device)"
      ],
      "metadata": {
        "colab": {
          "base_uri": "https://localhost:8080/"
        },
        "id": "_7wEcyk3CoIw",
        "outputId": "1a81d13f-369f-4770-b764-a4be7ed9267b"
      },
      "execution_count": null,
      "outputs": [
        {
          "output_type": "stream",
          "name": "stdout",
          "text": [
            "cuda:0\n"
          ]
        }
      ]
    },
    {
      "cell_type": "markdown",
      "source": [
        "### Prepare data"
      ],
      "metadata": {
        "id": "61UnHin0JTc_"
      }
    },
    {
      "cell_type": "code",
      "execution_count": null,
      "metadata": {
        "collapsed": true,
        "id": "6mozoa42EN9k",
        "colab": {
          "base_uri": "https://localhost:8080/"
        },
        "outputId": "a5f983f3-87ba-4721-e91d-25fd5d6cc95c"
      },
      "outputs": [
        {
          "output_type": "stream",
          "name": "stdout",
          "text": [
            "Downloading from https://www.kaggle.com/api/v1/datasets/download/samuelcortinhas/muffin-vs-chihuahua-image-classification?dataset_version_number=2...\n"
          ]
        },
        {
          "output_type": "stream",
          "name": "stderr",
          "text": [
            "100%|██████████| 474M/474M [00:09<00:00, 53.8MB/s]"
          ]
        },
        {
          "output_type": "stream",
          "name": "stdout",
          "text": [
            "Extracting files...\n"
          ]
        },
        {
          "output_type": "stream",
          "name": "stderr",
          "text": [
            "\n"
          ]
        }
      ],
      "source": [
        "import kagglehub\n",
        "import random\n",
        "import os\n",
        "\n",
        "path = kagglehub.dataset_download(\"samuelcortinhas/muffin-vs-chihuahua-image-classification\")\n",
        "data_dir = 'data'\n",
        "\n",
        "!mv {path} {data_dir}\n",
        "\n",
        "!mkdir {data_dir}/combined\n",
        "!mkdir {data_dir}/combined/chihuahua\n",
        "!mkdir {data_dir}/combined/muffin\n",
        "\n",
        "!mv {data_dir}/test/chihuahua/* {data_dir}/combined/chihuahua\n",
        "!mv {data_dir}/test/muffin/* {data_dir}/combined/muffin\n",
        "!mv {data_dir}/train/chihuahua/* {data_dir}/combined/chihuahua\n",
        "!mv {data_dir}/train/muffin/* {data_dir}/combined/muffin\n",
        "\n",
        "!rmdir {data_dir}/test/chihuahua\n",
        "!rmdir {data_dir}/test/muffin\n",
        "!rmdir {data_dir}/train/chihuahua\n",
        "!rmdir {data_dir}/train/muffin\n",
        "!rmdir {data_dir}/train\n",
        "!rmdir {data_dir}/test\n",
        "\n",
        "def limit_files(directory, max_files):\n",
        "    files = os.listdir(directory)\n",
        "    if len(files) > max_files:\n",
        "        files_to_remove = random.sample(files, len(files) - max_files)\n",
        "        for file in files_to_remove:\n",
        "            os.remove(os.path.join(directory, file))\n",
        "\n",
        "limit_files(f\"{data_dir}/combined/chihuahua\", 500)\n",
        "limit_files(f\"{data_dir}/combined/muffin\", 500)"
      ]
    },
    {
      "cell_type": "markdown",
      "source": [
        "### LeNet-5 architecture"
      ],
      "metadata": {
        "id": "jJ3V-wDkP8hY"
      }
    },
    {
      "cell_type": "code",
      "source": [
        "import torch\n",
        "import torch.nn as nn\n",
        "import torch.nn.functional as F\n",
        "\n",
        "# Reference: https://www.geeksforgeeks.org/convolutional-neural-network-cnn-architectures/\n",
        "class LeNet5(nn.Module):\n",
        "    def __init__(self, in_shape, num_classes):\n",
        "        super().__init__()\n",
        "        self.num_classes = num_classes\n",
        "\n",
        "        self.conv1 = nn.Conv2d(in_channels=in_shape, out_channels=6, kernel_size=5, stride=1)\n",
        "        self.pool = nn.MaxPool2d(kernel_size=2, stride=2)\n",
        "        self.conv2 = nn.Conv2d(in_channels=6, out_channels=16, kernel_size=5, stride=1)\n",
        "        self.fc1 = nn.Linear(in_features=16 * 5 * 5, out_features=120)\n",
        "        self.fc2 = nn.Linear(in_features=120, out_features=84)\n",
        "        self.fc3 = nn.Linear(in_features=84, out_features=num_classes)\n",
        "\n",
        "    def forward(self, x):\n",
        "        x = self.pool(F.relu(self.conv1(x)))\n",
        "        x = self.pool(F.relu(self.conv2(x)))\n",
        "        x = x.view(-1, 16 * 5 * 5)\n",
        "        x = F.relu(self.fc1(x))\n",
        "        x = F.relu(self.fc2(x))\n",
        "        x = self.fc3(x)\n",
        "\n",
        "        return x"
      ],
      "metadata": {
        "id": "uR3EDMHnP7eQ"
      },
      "execution_count": null,
      "outputs": []
    },
    {
      "cell_type": "markdown",
      "source": [
        "### AlexNNet architecture"
      ],
      "metadata": {
        "id": "O6TAYE6bVYwt"
      }
    },
    {
      "cell_type": "code",
      "source": [
        "import torch\n",
        "import torch.nn as nn\n",
        "import torch.nn.functional as F\n",
        "\n",
        "# Reference: https://www.geeksforgeeks.org/convolutional-neural-network-cnn-architectures/\n",
        "class AlexNet(nn.Module):\n",
        "    def __init__(self, in_shape, num_classes):\n",
        "        super().__init__()\n",
        "        self.num_classes = num_classes\n",
        "\n",
        "        self.conv1 = nn.Conv2d(in_channels=in_shape, out_channels=96, kernel_size=11, stride=4, padding=2)\n",
        "        self.pool = nn.MaxPool2d(kernel_size=3, stride=2)\n",
        "        self.conv2 = nn.Conv2d(in_channels=96, out_channels=256, kernel_size=5, padding=2)\n",
        "        self.conv3 = nn.Conv2d(in_channels=256, out_channels=384, kernel_size=3, padding=1)\n",
        "        self.conv4 = nn.Conv2d(in_channels=384, out_channels=384, kernel_size=3, padding=1)\n",
        "        self.conv5 = nn.Conv2d(in_channels=384, out_channels=256, kernel_size=3, padding=1)\n",
        "        self.fc1 = nn.Linear(in_features=256 * 6 * 6, out_features=4096)\n",
        "        self.fc2 = nn.Linear(in_features=4096, out_features=4096)\n",
        "        self.fc3 = nn.Linear(in_features=4096, out_features=num_classes)\n",
        "\n",
        "    def forward(self, x):\n",
        "        x = self.pool(F.relu(self.conv1(x)))\n",
        "        x = self.pool(F.relu(self.conv2(x)))\n",
        "        x = F.relu(self.conv3(x))\n",
        "        x = F.relu(self.conv4(x))\n",
        "        x = self.pool(F.relu(self.conv5(x)))\n",
        "        x = x.view(-1, 256 * 6 * 6)\n",
        "        x = F.relu(self.fc1(x))\n",
        "        x = F.dropout(x, 0.5)\n",
        "        x = F.relu(self.fc2(x))\n",
        "        x = self.fc3(x)\n",
        "\n",
        "        return x"
      ],
      "metadata": {
        "id": "f14lJig0VgIv"
      },
      "execution_count": null,
      "outputs": []
    },
    {
      "cell_type": "markdown",
      "source": [
        "### Simple CNN architecture"
      ],
      "metadata": {
        "id": "CCt3K5foWHEs"
      }
    },
    {
      "cell_type": "code",
      "source": [
        "import torch\n",
        "import torch.nn as  nn\n",
        "import torch.nn.functional as F\n",
        "\n",
        "# Reference: https://medium.com/@chenycy/a-simple-convolutional-neural-network-cnn-classifier-based-on-real-images-084110d52c18\n",
        "\n",
        "class CustomCNN(nn.Module):\n",
        "    def __init__(self, in_shape, num_classes):\n",
        "        super().__init__()\n",
        "        self.num_classes = num_classes\n",
        "\n",
        "        self.conv1 = nn.Conv2d(in_channels=in_shape, out_channels=16, kernel_size=3, stride=1)\n",
        "        self.conv2 = nn.Conv2d(in_channels=16, out_channels=32, kernel_size=3, stride=1)\n",
        "        self.conv3 = nn.Conv2d(in_channels=32, out_channels=64, kernel_size=3, stride=1)\n",
        "        self.flatten = nn.Flatten()\n",
        "        self.pool = nn.MaxPool2d(kernel_size=2, stride=2)\n",
        "        self.fc1 = nn.Linear(in_features=(64 * 17 * 17), out_features=512)\n",
        "        self.fc2 = nn.Linear(in_features=512, out_features=num_classes)\n",
        "\n",
        "    def forward(self, x):\n",
        "        x = self.pool(F.relu(self.conv1(x)))\n",
        "        x = self.pool(F.relu(self.conv2(x)))\n",
        "        x = self.pool(F.relu(self.conv3(x)))\n",
        "        x = self.flatten(x)\n",
        "        x = F.relu(self.fc1(x))\n",
        "        x = self.fc2(x)\n",
        "\n",
        "        return x"
      ],
      "metadata": {
        "id": "M0NAXxFkYqKi"
      },
      "execution_count": null,
      "outputs": []
    },
    {
      "cell_type": "markdown",
      "source": [
        "#### SimpleCNN with dropout"
      ],
      "metadata": {
        "id": "9ooQKZ8qQiAe"
      }
    },
    {
      "cell_type": "code",
      "source": [
        "import torch\n",
        "import torch.nn as  nn\n",
        "import torch.nn.functional as F\n",
        "\n",
        "class CustomCNN_withDropout(nn.Module):\n",
        "    def __init__(self, in_shape, num_classes):\n",
        "        super().__init__()\n",
        "        self.num_classes = num_classes\n",
        "\n",
        "        self.conv1 = nn.Conv2d(in_channels=in_shape, out_channels=16, kernel_size=3, stride=1)\n",
        "        self.conv2 = nn.Conv2d(in_channels=16, out_channels=32, kernel_size=3, stride=1)\n",
        "        self.conv3 = nn.Conv2d(in_channels=32, out_channels=64, kernel_size=3, stride=1)\n",
        "        self.flatten = nn.Flatten()\n",
        "        self.pool = nn.MaxPool2d(kernel_size=2, stride=2)\n",
        "        self.fc1 = nn.Linear(in_features=(64 * 17 * 17), out_features=512)\n",
        "        self.fc2 = nn.Linear(in_features=512, out_features=num_classes)\n",
        "        self.dropout = nn.Dropout(p=0.25)\n",
        "\n",
        "    def forward(self, x):\n",
        "        x = self.pool(F.relu(self.conv1(x)))\n",
        "        x = self.pool(F.relu(self.conv2(x)))\n",
        "        x = self.pool(F.relu(self.conv3(x)))\n",
        "        x = self.flatten(x)\n",
        "        x = self.dropout(F.relu(self.fc1(x)))\n",
        "        x = self.fc2(x)\n",
        "\n",
        "        return x"
      ],
      "metadata": {
        "id": "Oe8BTNOfP017"
      },
      "execution_count": null,
      "outputs": []
    },
    {
      "cell_type": "markdown",
      "source": [
        "#### SimpleCNN with batch normalization"
      ],
      "metadata": {
        "id": "-zWNxadEaqfd"
      }
    },
    {
      "cell_type": "code",
      "source": [
        "import torch\n",
        "import torch.nn as  nn\n",
        "import torch.nn.functional as F\n",
        "\n",
        "class CustomCNN_withNorm(nn.Module):\n",
        "    def __init__(self, in_shape, num_classes):\n",
        "        super().__init__()\n",
        "        self.num_classes = num_classes\n",
        "\n",
        "        self.conv1 = nn.Conv2d(in_channels=in_shape, out_channels=16, kernel_size=3, stride=1)\n",
        "        self.bn1 = nn.BatchNorm2d(16)\n",
        "        self.conv2 = nn.Conv2d(in_channels=16, out_channels=32, kernel_size=3, stride=1)\n",
        "        self.bn2 = nn.BatchNorm2d(32)\n",
        "        self.conv3 = nn.Conv2d(in_channels=32, out_channels=64, kernel_size=3, stride=1)\n",
        "        self.bn3 = nn.BatchNorm2d(64)\n",
        "        self.flatten = nn.Flatten()\n",
        "        self.pool = nn.MaxPool2d(kernel_size=2, stride=2)\n",
        "        self.fc1 = nn.Linear(in_features=(64 * 17 * 17), out_features=512)\n",
        "        self.fc2 = nn.Linear(in_features=512, out_features=num_classes)\n",
        "\n",
        "    def forward(self, x):\n",
        "        x = self.pool(F.relu(self.bn1(self.conv1(x))))\n",
        "        x = self.pool(F.relu(self.bn2(self.conv2(x))))\n",
        "        x = self.pool(F.relu(self.bn3(self.conv3(x))))\n",
        "        x = self.flatten(x)\n",
        "        x = F.relu(self.fc1(x))\n",
        "        x = self.fc2(x)\n",
        "\n",
        "        return x"
      ],
      "metadata": {
        "id": "wfUmtIxHXOTr"
      },
      "execution_count": null,
      "outputs": []
    },
    {
      "cell_type": "markdown",
      "source": [
        "#### SimpleCNN with normalization and tanh"
      ],
      "metadata": {
        "id": "NuCHwA71h_Tr"
      }
    },
    {
      "cell_type": "code",
      "source": [
        "import torch\n",
        "import torch.nn as  nn\n",
        "import torch.nn.functional as F\n",
        "\n",
        "class CustomCNN_withNormTanh(nn.Module):\n",
        "    def __init__(self, in_shape, num_classes):\n",
        "        super().__init__()\n",
        "        self.num_classes = num_classes\n",
        "\n",
        "        self.conv1 = nn.Conv2d(in_channels=in_shape, out_channels=16, kernel_size=3, stride=1)\n",
        "        self.bn1 = nn.BatchNorm2d(16)\n",
        "        self.conv2 = nn.Conv2d(in_channels=16, out_channels=32, kernel_size=3, stride=1)\n",
        "        self.bn2 = nn.BatchNorm2d(32)\n",
        "        self.conv3 = nn.Conv2d(in_channels=32, out_channels=64, kernel_size=3, stride=1)\n",
        "        self.bn3 = nn.BatchNorm2d(64)\n",
        "        self.flatten = nn.Flatten()\n",
        "        self.pool = nn.MaxPool2d(kernel_size=2, stride=2)\n",
        "        self.fc1 = nn.Linear(in_features=(64 * 17 * 17), out_features=512)\n",
        "        self.fc2 = nn.Linear(in_features=512, out_features=num_classes)\n",
        "\n",
        "    def forward(self, x):\n",
        "        x = self.pool(F.tanh(self.bn1(self.conv1(x))))\n",
        "        x = self.pool(F.tanh(self.bn2(self.conv2(x))))\n",
        "        x = self.pool(F.tanh(self.bn3(self.conv3(x))))\n",
        "        x = self.flatten(x)\n",
        "        x = F.tanh(self.fc1(x))\n",
        "        x = self.fc2(x)\n",
        "\n",
        "        return x"
      ],
      "metadata": {
        "id": "bDScI5EniDU8"
      },
      "execution_count": null,
      "outputs": []
    },
    {
      "cell_type": "markdown",
      "source": [
        "### Training"
      ],
      "metadata": {
        "id": "XSh837YKJPtw"
      }
    },
    {
      "cell_type": "code",
      "source": [
        "import numpy as np\n",
        "\n",
        "def train_epoch(optimizer, loss_func, model, loader):\n",
        "    classes = model.num_classes\n",
        "    model.train()\n",
        "    loss_acum = np.array([], dtype = np.float32)\n",
        "\n",
        "    for images, labels in loader:\n",
        "      optimizer.zero_grad()\n",
        "      images = images.to(device)\n",
        "      labels = torch.nn.functional.one_hot(labels, classes).float().to(device)\n",
        "\n",
        "      pred = model(images)\n",
        "      loss = loss_func(pred, labels)\n",
        "      loss_acum = np.append(loss_acum, loss.cpu().detach().numpy())\n",
        "\n",
        "      loss.backward()\n",
        "      optimizer.step()\n",
        "\n",
        "    return np.mean(loss_acum)"
      ],
      "metadata": {
        "id": "88-h0ZIYJYdd"
      },
      "execution_count": null,
      "outputs": []
    },
    {
      "cell_type": "markdown",
      "source": [
        "### Evaluation"
      ],
      "metadata": {
        "id": "bYlJUX-cJgOs"
      }
    },
    {
      "cell_type": "code",
      "source": [
        "def evaluate(model, loader):\n",
        "  model.eval()\n",
        "\n",
        "  correct_predictions = 0\n",
        "  total_predictions = 0\n",
        "\n",
        "  labels_acum = []\n",
        "  predictions_acum = []\n",
        "\n",
        "  for images, labels in loader:\n",
        "    images = images.to(device)\n",
        "    labels = labels.to(device)\n",
        "\n",
        "    with torch.no_grad():\n",
        "      pred = torch.sigmoid(model(images))\n",
        "\n",
        "    label_pred = torch.argmax(pred, axis = 1)\n",
        "\n",
        "    labels_acum = np.append(labels_acum, labels.cpu().detach().numpy())\n",
        "    predictions_acum = np.append(predictions_acum, label_pred.cpu().detach().numpy())\n",
        "\n",
        "    correct_predictions += torch.sum(labels == label_pred)\n",
        "    total_predictions += images.shape[0]\n",
        "\n",
        "  accuracy = correct_predictions / total_predictions\n",
        "\n",
        "  return accuracy, labels_acum, predictions_acum"
      ],
      "metadata": {
        "id": "DDkYsrFlJfij"
      },
      "execution_count": null,
      "outputs": []
    },
    {
      "cell_type": "markdown",
      "source": [
        "### Training sequence"
      ],
      "metadata": {
        "id": "mnmuV9ZlCwfn"
      }
    },
    {
      "cell_type": "code",
      "source": [
        "from datetime import datetime, timedelta\n",
        "\n",
        "def train_and_eval(model, loader_train, loader_valid, epoch_count, lr):\n",
        "  loss_func = torch.nn.CrossEntropyLoss()\n",
        "  optimizer = torch.optim.Adam(model.parameters(), lr = lr)\n",
        "  #optimizer = torch.optim.SGD(model.parameters(), lr = lr)\n",
        "\n",
        "  start_time = datetime.now()\n",
        "\n",
        "  train_accuracy_acum = []\n",
        "  test_accuracy_acum = []\n",
        "  for epoch in range(epoch_count):\n",
        "    loss = train_epoch(optimizer, loss_func, model, loader_train)\n",
        "\n",
        "    train_accuracy, _, _ = evaluate(model, loader_train)\n",
        "    train_accuracy_acum.append(train_accuracy.cpu().numpy())\n",
        "    test_accuracy, _, _ = evaluate(model, loader_valid)\n",
        "    test_accuracy_acum.append(test_accuracy.cpu().numpy())\n",
        "\n",
        "    elapsed = timedelta(seconds=((datetime.now() - start_time).total_seconds()))\n",
        "    print(f'Epoch: {epoch}, Time: {elapsed}, Training loss: {loss}')\n",
        "    print(f'Training accuracy: {torch.round(train_accuracy * 100)}, Validation accuracy: {torch.round(test_accuracy * 100)}')\n",
        "\n",
        "    if (torch.round(test_accuracy * 100) >= 90):\n",
        "      break\n",
        "\n",
        "  _, labels, predictions = evaluate(model, loader_valid)\n",
        "\n",
        "  return train_accuracy_acum, test_accuracy_acum, labels, predictions"
      ],
      "metadata": {
        "id": "czGzNBgQs0Jq"
      },
      "execution_count": null,
      "outputs": []
    },
    {
      "cell_type": "markdown",
      "source": [
        "### Metrics"
      ],
      "metadata": {
        "id": "7rFsEOblC5XJ"
      }
    },
    {
      "cell_type": "code",
      "source": [
        "from sklearn.metrics import confusion_matrix\n",
        "\n",
        "def compute_metrics(labels, predictions):\n",
        "  metrics = {}\n",
        "\n",
        "  matrix = confusion_matrix(labels, predictions)\n",
        "\n",
        "  metrics['conf_matrix'] = matrix\n",
        "\n",
        "  metrics['accuracy'] = np.trace(matrix) / np.sum(matrix)\n",
        "\n",
        "  return metrics"
      ],
      "metadata": {
        "id": "Gl5Ilqfds2yh"
      },
      "execution_count": null,
      "outputs": []
    },
    {
      "cell_type": "code",
      "source": [
        "import matplotlib.pyplot as plt\n",
        "\n",
        "def plot_accuracy(train_accuracy, valid_accuracy, title):\n",
        "  plt.clf()\n",
        "  plt.plot(train_accuracy, 'b', label = 'Training accuracy')\n",
        "  plt.plot(valid_accuracy, 'r', label = 'Validation accuracy')\n",
        "  plt.title(title)\n",
        "  plt.ylim(0.0, 1.0)\n",
        "  plt.legend()\n",
        "  plt.show()"
      ],
      "metadata": {
        "id": "X57jLPyBs4WB"
      },
      "execution_count": null,
      "outputs": []
    },
    {
      "cell_type": "markdown",
      "source": [
        "### T&E LeNet5"
      ],
      "metadata": {
        "id": "dY779aOuCRBC"
      }
    },
    {
      "cell_type": "code",
      "source": [
        "from torchvision import datasets\n",
        "from torch.utils.data import DataLoader\n",
        "from torchvision import transforms\n",
        "import math\n",
        "\n",
        "transformations = transforms.Compose([\n",
        "    transforms.Resize((32, 32)),\n",
        "    transforms.ToTensor(),\n",
        "    transforms.Normalize(mean=(0.5, 0.5, 0.5), std=(0.5, 0.5, 0.5))\n",
        "])\n",
        "\n",
        "dataset = datasets.ImageFolder(data_dir + '/combined', transform=transformations)\n",
        "\n",
        "dataset_length = len(dataset)\n",
        "val_length = math.floor(dataset_length * 0.1)\n",
        "test_length = math.floor(dataset_length * 0.1)\n",
        "train_length = dataset_length - val_length - test_length\n",
        "\n",
        "train_set_le, val_set_le, test_set_le = torch.utils.data.random_split(dataset, [train_length, val_length, test_length])\n",
        "\n",
        "train_loader_le = DataLoader(train_set_le, batch_size = 100, shuffle=True)\n",
        "val_loader_le = DataLoader(val_set_le, shuffle=False)\n",
        "test_loader_le = DataLoader(test_set_le, shuffle=False)\n",
        "\n",
        "model_le = LeNet5(3, 2).to(device)\n",
        "\n",
        "train_acc, valid_acc, labels, predictions = train_and_eval(model_le, train_loader_le, val_loader_le, 20, 0.001)\n",
        "print(compute_metrics(labels, predictions))\n",
        "plot_accuracy(train_acc, valid_acc, \"LeNet5\")"
      ],
      "metadata": {
        "colab": {
          "base_uri": "https://localhost:8080/",
          "height": 1000
        },
        "id": "uYZLc23Qs5W0",
        "outputId": "0e6f6d55-d1c3-4585-d1a0-3c005337c8cb"
      },
      "execution_count": null,
      "outputs": [
        {
          "output_type": "stream",
          "name": "stdout",
          "text": [
            "Epoch: 0, Time: 0:00:18.355999, Training loss: 0.6824316382408142\n",
            "Training accuracy: 69.0, Validation accuracy: 63.0\n",
            "Epoch: 1, Time: 0:00:34.108084, Training loss: 0.6100952625274658\n",
            "Training accuracy: 73.0, Validation accuracy: 70.0\n",
            "Epoch: 2, Time: 0:00:49.486963, Training loss: 0.5212736129760742\n",
            "Training accuracy: 76.0, Validation accuracy: 80.0\n",
            "Epoch: 3, Time: 0:01:05.983629, Training loss: 0.494446337223053\n",
            "Training accuracy: 77.0, Validation accuracy: 81.0\n",
            "Epoch: 4, Time: 0:01:22.338542, Training loss: 0.4831426739692688\n",
            "Training accuracy: 78.0, Validation accuracy: 79.0\n",
            "Epoch: 5, Time: 0:01:37.856098, Training loss: 0.47173261642456055\n",
            "Training accuracy: 77.0, Validation accuracy: 81.0\n",
            "Epoch: 6, Time: 0:01:53.342347, Training loss: 0.4699011445045471\n",
            "Training accuracy: 80.0, Validation accuracy: 81.0\n",
            "Epoch: 7, Time: 0:02:08.852694, Training loss: 0.43971550464630127\n",
            "Training accuracy: 79.0, Validation accuracy: 80.0\n",
            "Epoch: 8, Time: 0:02:25.368782, Training loss: 0.43999651074409485\n",
            "Training accuracy: 82.0, Validation accuracy: 84.0\n",
            "Epoch: 9, Time: 0:02:42.466183, Training loss: 0.4205057621002197\n",
            "Training accuracy: 83.0, Validation accuracy: 82.0\n",
            "Epoch: 10, Time: 0:02:57.821477, Training loss: 0.40114152431488037\n",
            "Training accuracy: 84.0, Validation accuracy: 85.0\n",
            "Epoch: 11, Time: 0:03:13.357774, Training loss: 0.37806448340415955\n",
            "Training accuracy: 85.0, Validation accuracy: 82.0\n",
            "Epoch: 12, Time: 0:03:29.815345, Training loss: 0.36471766233444214\n",
            "Training accuracy: 86.0, Validation accuracy: 84.0\n",
            "Epoch: 13, Time: 0:03:45.177710, Training loss: 0.34584957361221313\n",
            "Training accuracy: 86.0, Validation accuracy: 83.0\n",
            "Epoch: 14, Time: 0:04:00.499745, Training loss: 0.34310710430145264\n",
            "Training accuracy: 83.0, Validation accuracy: 80.0\n",
            "Epoch: 15, Time: 0:04:15.886332, Training loss: 0.368480384349823\n",
            "Training accuracy: 88.0, Validation accuracy: 85.0\n",
            "Epoch: 16, Time: 0:04:32.292028, Training loss: 0.31837689876556396\n",
            "Training accuracy: 88.0, Validation accuracy: 84.0\n",
            "Epoch: 17, Time: 0:04:47.668199, Training loss: 0.30899447202682495\n",
            "Training accuracy: 90.0, Validation accuracy: 84.0\n",
            "Epoch: 18, Time: 0:05:03.013979, Training loss: 0.27488353848457336\n",
            "Training accuracy: 90.0, Validation accuracy: 85.0\n",
            "Epoch: 19, Time: 0:05:18.434813, Training loss: 0.2556733191013336\n",
            "Training accuracy: 91.0, Validation accuracy: 84.0\n",
            "{'conf_matrix': array([[49,  6],\n",
            "       [10, 35]]), 'accuracy': 0.84}\n"
          ]
        },
        {
          "output_type": "display_data",
          "data": {
            "text/plain": [
              "<Figure size 640x480 with 1 Axes>"
            ],
            "image/png": "[encoded data removed]"
          },
          "metadata": {}
        }
      ]
    },
    {
      "cell_type": "markdown",
      "source": [
        "### T&E AlexNet"
      ],
      "metadata": {
        "id": "7JCUwDWTCXSB"
      }
    },
    {
      "cell_type": "code",
      "source": [
        "from torchvision import datasets\n",
        "from torch.utils.data import DataLoader\n",
        "from torchvision import transforms\n",
        "import math\n",
        "\n",
        "transformations = transforms.Compose([\n",
        "    transforms.Resize((224, 224)),\n",
        "    transforms.ToTensor(),\n",
        "    transforms.Normalize(mean=(0.5, 0.5, 0.5), std=(0.5, 0.5, 0.5))\n",
        "])\n",
        "\n",
        "dataset = datasets.ImageFolder(data_dir + '/combined', transform=transformations)\n",
        "\n",
        "dataset_length = len(dataset)\n",
        "val_length = math.floor(dataset_length * 0.1)\n",
        "test_length = math.floor(dataset_length * 0.1)\n",
        "train_length = dataset_length - val_length - test_length\n",
        "\n",
        "train_set_alex, val_set_alex, test_set_alex = torch.utils.data.random_split(dataset, [train_length, val_length, test_length])\n",
        "\n",
        "train_loader_alex = DataLoader(train_set_alex, batch_size = 100, shuffle=True)\n",
        "val_loader_alex = DataLoader(val_set_alex, shuffle=False)\n",
        "test_loader_alex = DataLoader(test_set_alex, shuffle=False)\n",
        "\n",
        "model_alex = AlexNet(3, 2).to(device)\n",
        "\n",
        "train_acc, valid_acc, labels, predictions = train_and_eval(model_alex, train_loader_alex, val_loader_alex, 20, 0.001)\n",
        "print(compute_metrics(labels, predictions))\n",
        "plot_accuracy(train_acc, valid_acc, \"AlexNet\")"
      ],
      "metadata": {
        "colab": {
          "base_uri": "https://localhost:8080/",
          "height": 1000
        },
        "id": "AbKWINgHCagz",
        "outputId": "9bb2fb51-b7b6-4231-e16e-b040cce47fd6"
      },
      "execution_count": null,
      "outputs": [
        {
          "output_type": "stream",
          "name": "stdout",
          "text": [
            "Epoch: 0, Time: 0:00:21.036564, Training loss: 1.1441125869750977\n",
            "Training accuracy: 51.0, Validation accuracy: 49.0\n",
            "Epoch: 1, Time: 0:00:42.424144, Training loss: 0.754645824432373\n",
            "Training accuracy: 51.0, Validation accuracy: 49.0\n",
            "Epoch: 2, Time: 0:01:02.768400, Training loss: 0.6922944784164429\n",
            "Training accuracy: 51.0, Validation accuracy: 49.0\n",
            "Epoch: 3, Time: 0:01:23.692579, Training loss: 0.6890884637832642\n",
            "Training accuracy: 49.0, Validation accuracy: 51.0\n",
            "Epoch: 4, Time: 0:01:44.404380, Training loss: 0.6938549876213074\n",
            "Training accuracy: 49.0, Validation accuracy: 51.0\n",
            "Epoch: 5, Time: 0:02:04.433983, Training loss: 0.6934490203857422\n",
            "Training accuracy: 49.0, Validation accuracy: 51.0\n",
            "Epoch: 6, Time: 0:02:25.581741, Training loss: 0.6933596134185791\n",
            "Training accuracy: 50.0, Validation accuracy: 52.0\n",
            "Epoch: 7, Time: 0:02:46.190174, Training loss: 0.6866846680641174\n",
            "Training accuracy: 54.0, Validation accuracy: 55.0\n",
            "Epoch: 8, Time: 0:03:06.602390, Training loss: 0.681800901889801\n",
            "Training accuracy: 66.0, Validation accuracy: 71.0\n",
            "Epoch: 9, Time: 0:03:27.598022, Training loss: 0.669464111328125\n",
            "Training accuracy: 64.0, Validation accuracy: 67.0\n",
            "Epoch: 10, Time: 0:03:47.735346, Training loss: 0.6485013365745544\n",
            "Training accuracy: 68.0, Validation accuracy: 71.0\n",
            "Epoch: 11, Time: 0:04:08.681368, Training loss: 0.5871881246566772\n",
            "Training accuracy: 71.0, Validation accuracy: 72.0\n",
            "Epoch: 12, Time: 0:04:29.651583, Training loss: 0.581612229347229\n",
            "Training accuracy: 67.0, Validation accuracy: 74.0\n",
            "Epoch: 13, Time: 0:04:49.710598, Training loss: 0.5920749306678772\n",
            "Training accuracy: 77.0, Validation accuracy: 82.0\n",
            "Epoch: 14, Time: 0:05:10.766143, Training loss: 0.5773755311965942\n",
            "Training accuracy: 71.0, Validation accuracy: 74.0\n",
            "Epoch: 15, Time: 0:05:31.559608, Training loss: 0.6125717163085938\n",
            "Training accuracy: 74.0, Validation accuracy: 79.0\n",
            "Epoch: 16, Time: 0:05:51.942393, Training loss: 0.4904857277870178\n",
            "Training accuracy: 78.0, Validation accuracy: 83.0\n",
            "Epoch: 17, Time: 0:06:13.196898, Training loss: 0.44103729724884033\n",
            "Training accuracy: 82.0, Validation accuracy: 85.0\n",
            "Epoch: 18, Time: 0:06:40.044653, Training loss: 0.39924007654190063\n",
            "Training accuracy: 85.0, Validation accuracy: 89.0\n",
            "Epoch: 19, Time: 0:07:00.960641, Training loss: 0.35417336225509644\n",
            "Training accuracy: 86.0, Validation accuracy: 88.0\n",
            "{'conf_matrix': array([[41,  8],\n",
            "       [ 5, 46]]), 'accuracy': 0.87}\n"
          ]
        },
        {
          "output_type": "display_data",
          "data": {
            "text/plain": [
              "<Figure size 640x480 with 1 Axes>"
            ],
            "image/png": "[encoded data removed]"
          },
          "metadata": {}
        }
      ]
    },
    {
      "cell_type": "markdown",
      "source": [
        "### T&E CustomCNN"
      ],
      "metadata": {
        "id": "XLZNs7dYCa6W"
      }
    },
    {
      "cell_type": "code",
      "source": [
        "from torchvision import datasets\n",
        "from torch.utils.data import DataLoader\n",
        "from torchvision import transforms\n",
        "import math\n",
        "\n",
        "transformations = transforms.Compose([\n",
        "    transforms.Resize((150, 150)),\n",
        "    transforms.ToTensor(),\n",
        "    transforms.Normalize(mean=(0.5, 0.5, 0.5), std=(0.5, 0.5, 0.5))\n",
        "])\n",
        "\n",
        "dataset = datasets.ImageFolder(data_dir + '/combined', transform=transformations)\n",
        "\n",
        "dataset_length = len(dataset)\n",
        "val_length = math.floor(dataset_length * 0.1)\n",
        "test_length = math.floor(dataset_length * 0.1)\n",
        "train_length = dataset_length - val_length - test_length\n",
        "\n",
        "train_set_cus, val_set_cus, test_set_cus = torch.utils.data.random_split(dataset, [train_length, val_length, test_length])\n",
        "\n",
        "train_loader_cus = DataLoader(train_set_cus, batch_size = 100, shuffle=True)\n",
        "val_loader_cus = DataLoader(val_set_cus, shuffle=False)\n",
        "test_loader_cus = DataLoader(test_set_cus, shuffle=False)\n",
        "\n",
        "model_cus = CustomCNN(3, 2).to(device)\n",
        "\n",
        "train_acc, valid_acc, labels, predictions = train_and_eval(model_cus, train_loader_cus, val_loader_cus, 20, 0.001)\n",
        "print(compute_metrics(labels, predictions))\n",
        "plot_accuracy(train_acc, valid_acc, \"Custom\")"
      ],
      "metadata": {
        "colab": {
          "base_uri": "https://localhost:8080/",
          "height": 1000
        },
        "id": "-JASQTY7CdP8",
        "outputId": "bce98af3-8a28-47bf-8e38-c51cb490ccd0"
      },
      "execution_count": null,
      "outputs": [
        {
          "output_type": "stream",
          "name": "stdout",
          "text": [
            "Epoch: 0, Time: 0:00:17.319345, Training loss: 0.8371007442474365\n",
            "Training accuracy: 64.0, Validation accuracy: 70.0\n",
            "Epoch: 1, Time: 0:00:35.530299, Training loss: 0.6533783674240112\n",
            "Training accuracy: 66.0, Validation accuracy: 71.0\n",
            "Epoch: 2, Time: 0:00:53.617249, Training loss: 0.5737598538398743\n",
            "Training accuracy: 78.0, Validation accuracy: 76.0\n",
            "Epoch: 3, Time: 0:01:10.648748, Training loss: 0.4797555208206177\n",
            "Training accuracy: 80.0, Validation accuracy: 75.0\n",
            "Epoch: 4, Time: 0:01:28.694290, Training loss: 0.43133658170700073\n",
            "Training accuracy: 80.0, Validation accuracy: 74.0\n",
            "Epoch: 5, Time: 0:01:45.720043, Training loss: 0.3777915835380554\n",
            "Training accuracy: 88.0, Validation accuracy: 79.0\n",
            "Epoch: 6, Time: 0:02:02.732692, Training loss: 0.3456099331378937\n",
            "Training accuracy: 84.0, Validation accuracy: 83.0\n",
            "Epoch: 7, Time: 0:02:20.615229, Training loss: 0.2867124676704407\n",
            "Training accuracy: 91.0, Validation accuracy: 82.0\n",
            "Epoch: 8, Time: 0:02:37.623208, Training loss: 0.27258723974227905\n",
            "Training accuracy: 87.0, Validation accuracy: 83.0\n",
            "Epoch: 9, Time: 0:02:54.940643, Training loss: 0.2524501085281372\n",
            "Training accuracy: 92.0, Validation accuracy: 84.0\n",
            "Epoch: 10, Time: 0:03:12.660728, Training loss: 0.21070092916488647\n",
            "Training accuracy: 94.0, Validation accuracy: 88.0\n",
            "Epoch: 11, Time: 0:03:29.815178, Training loss: 0.17519620060920715\n",
            "Training accuracy: 96.0, Validation accuracy: 84.0\n",
            "Epoch: 12, Time: 0:03:47.693171, Training loss: 0.14975455403327942\n",
            "Training accuracy: 96.0, Validation accuracy: 84.0\n",
            "Epoch: 13, Time: 0:04:04.857688, Training loss: 0.12836626172065735\n",
            "Training accuracy: 98.0, Validation accuracy: 85.0\n",
            "Epoch: 14, Time: 0:04:22.042408, Training loss: 0.09044750034809113\n",
            "Training accuracy: 98.0, Validation accuracy: 85.0\n",
            "Epoch: 15, Time: 0:04:40.040148, Training loss: 0.09155387431383133\n",
            "Training accuracy: 99.0, Validation accuracy: 86.0\n",
            "Epoch: 16, Time: 0:04:57.375913, Training loss: 0.06416264921426773\n",
            "Training accuracy: 99.0, Validation accuracy: 85.0\n",
            "Epoch: 17, Time: 0:05:15.111927, Training loss: 0.04346422478556633\n",
            "Training accuracy: 100.0, Validation accuracy: 84.0\n",
            "Epoch: 18, Time: 0:05:32.785621, Training loss: 0.03265722095966339\n",
            "Training accuracy: 100.0, Validation accuracy: 87.0\n",
            "Epoch: 19, Time: 0:05:49.839446, Training loss: 0.02095882222056389\n",
            "Training accuracy: 100.0, Validation accuracy: 85.0\n",
            "{'conf_matrix': array([[45,  4],\n",
            "       [11, 40]]), 'accuracy': 0.85}\n"
          ]
        },
        {
          "output_type": "display_data",
          "data": {
            "text/plain": [
              "<Figure size 640x480 with 1 Axes>"
            ],
            "image/png": "[encoded data removed]"
          },
          "metadata": {}
        }
      ]
    },
    {
      "cell_type": "markdown",
      "source": [
        "### T&E CustomCNN_Dropout"
      ],
      "metadata": {
        "id": "DafR3xIOQGsG"
      }
    },
    {
      "cell_type": "code",
      "source": [
        "from torchvision import datasets\n",
        "from torch.utils.data import DataLoader\n",
        "from torchvision import transforms\n",
        "import math\n",
        "\n",
        "transformations = transforms.Compose([\n",
        "    transforms.Resize((150, 150)),\n",
        "    transforms.ToTensor(),\n",
        "    transforms.Normalize(mean=(0.5, 0.5, 0.5), std=(0.5, 0.5, 0.5))\n",
        "])\n",
        "\n",
        "dataset = datasets.ImageFolder(data_dir + '/combined', transform=transformations)\n",
        "\n",
        "dataset_length = len(dataset)\n",
        "val_length = math.floor(dataset_length * 0.1)\n",
        "test_length = math.floor(dataset_length * 0.1)\n",
        "train_length = dataset_length - val_length - test_length\n",
        "\n",
        "train_set_cusdrop, val_set_cusdrop, test_set_cusdrop = torch.utils.data.random_split(dataset, [train_length, val_length, test_length])\n",
        "\n",
        "train_loader_cusdrop = DataLoader(train_set_cusdrop, batch_size = 100, shuffle=True)\n",
        "val_loader_cusdrop = DataLoader(val_set_cusdrop, shuffle=False)\n",
        "test_loader_cusdrop = DataLoader(test_set_cusdrop, shuffle=False)\n",
        "\n",
        "model_cusdrop = CustomCNN_withDropout(3, 2).to(device)\n",
        "\n",
        "train_acc, valid_acc, labels, predictions = train_and_eval(model_cusdrop, train_loader_cusdrop, val_loader_cusdrop, 20, 0.001)\n",
        "print(compute_metrics(labels, predictions))\n",
        "plot_accuracy(train_acc, valid_acc, \"Custom with dropout (25%)\")"
      ],
      "metadata": {
        "id": "tzWwx44DQD7I"
      },
      "execution_count": null,
      "outputs": []
    },
    {
      "cell_type": "markdown",
      "source": [
        "### T&E CustomCNN with batch normalization"
      ],
      "metadata": {
        "id": "hb0Y5kycXzKe"
      }
    },
    {
      "cell_type": "code",
      "source": [
        "from torchvision import datasets\n",
        "from torch.utils.data import DataLoader\n",
        "from torchvision import transforms\n",
        "import math\n",
        "\n",
        "transformations = transforms.Compose([\n",
        "    transforms.Resize((150, 150)),\n",
        "    transforms.ToTensor(),\n",
        "    transforms.Normalize(mean=(0.5, 0.5, 0.5), std=(0.5, 0.5, 0.5))\n",
        "])\n",
        "\n",
        "dataset = datasets.ImageFolder(data_dir + '/combined', transform=transformations)\n",
        "\n",
        "dataset_length = len(dataset)\n",
        "val_length = math.floor(dataset_length * 0.1)\n",
        "test_length = math.floor(dataset_length * 0.1)\n",
        "train_length = dataset_length - val_length - test_length\n",
        "\n",
        "train_set_cusnorm, val_set_cusnorm, test_set_cusnorm = torch.utils.data.random_split(dataset, [train_length, val_length, test_length])\n",
        "\n",
        "train_loader_cusnorm = DataLoader(train_set_cusnorm, batch_size = 100, shuffle=True)\n",
        "val_loader_cusnorm = DataLoader(val_set_cusnorm, shuffle=False)\n",
        "test_loader_cusnorm = DataLoader(test_set_cusnorm, shuffle=False)\n",
        "\n",
        "model_cusnorm = CustomCNN_withNorm(3, 2).to(device)\n",
        "\n",
        "train_acc, valid_acc, labels, predictions = train_and_eval(model_cusnorm, train_loader_cusnorm, val_loader_cusnorm, 20, 0.001)\n",
        "print(compute_metrics(labels, predictions))\n",
        "plot_accuracy(train_acc, valid_acc, \"Custom with batch normalization\")"
      ],
      "metadata": {
        "colab": {
          "base_uri": "https://localhost:8080/",
          "height": 868
        },
        "id": "yhtkToP-X44s",
        "outputId": "7c35a7b4-6a10-43bb-d49e-fe3fbf05fa5c"
      },
      "execution_count": null,
      "outputs": [
        {
          "output_type": "stream",
          "name": "stdout",
          "text": [
            "Epoch: 0, Time: 0:00:20.403576, Training loss: 1.388150691986084\n",
            "Training accuracy: 72.0, Validation accuracy: 77.0\n",
            "Epoch: 1, Time: 0:00:36.525416, Training loss: 0.512059211730957\n",
            "Training accuracy: 76.0, Validation accuracy: 76.0\n",
            "Epoch: 2, Time: 0:00:52.607371, Training loss: 0.4407365620136261\n",
            "Training accuracy: 84.0, Validation accuracy: 85.0\n",
            "Epoch: 3, Time: 0:01:09.682995, Training loss: 0.3738515377044678\n",
            "Training accuracy: 85.0, Validation accuracy: 86.0\n",
            "Epoch: 4, Time: 0:01:25.860050, Training loss: 0.31900203227996826\n",
            "Training accuracy: 88.0, Validation accuracy: 87.0\n",
            "Epoch: 5, Time: 0:01:42.959737, Training loss: 0.28349214792251587\n",
            "Training accuracy: 90.0, Validation accuracy: 89.0\n",
            "Epoch: 6, Time: 0:02:00.542429, Training loss: 0.250496506690979\n",
            "Training accuracy: 91.0, Validation accuracy: 89.0\n",
            "Epoch: 7, Time: 0:02:16.610178, Training loss: 0.20591270923614502\n",
            "Training accuracy: 93.0, Validation accuracy: 89.0\n",
            "Epoch: 8, Time: 0:02:32.842742, Training loss: 0.18114259839057922\n",
            "Training accuracy: 96.0, Validation accuracy: 89.0\n",
            "Epoch: 9, Time: 0:02:51.156947, Training loss: 0.14959129691123962\n",
            "Training accuracy: 96.0, Validation accuracy: 88.0\n",
            "Epoch: 10, Time: 0:03:07.360750, Training loss: 0.13334180414676666\n",
            "Training accuracy: 97.0, Validation accuracy: 90.0\n",
            "{'conf_matrix': array([[41,  4],\n",
            "       [ 6, 49]]), 'accuracy': 0.9}\n"
          ]
        },
        {
          "output_type": "display_data",
          "data": {
            "text/plain": [
              "<Figure size 640x480 with 1 Axes>"
            ],
            "image/png": "[encoded data removed]"
          },
          "metadata": {}
        }
      ]
    },
    {
      "cell_type": "markdown",
      "source": [
        "### T&E CustomCNN with normalization and tanh"
      ],
      "metadata": {
        "id": "z8qu-DLNiLF5"
      }
    },
    {
      "cell_type": "code",
      "source": [
        "from torchvision import datasets\n",
        "from torch.utils.data import DataLoader\n",
        "from torchvision import transforms\n",
        "import math\n",
        "\n",
        "transformations = transforms.Compose([\n",
        "    transforms.Resize((150, 150)),\n",
        "    transforms.ToTensor(),\n",
        "    transforms.Normalize(mean=(0.5, 0.5, 0.5), std=(0.5, 0.5, 0.5))\n",
        "])\n",
        "\n",
        "dataset = datasets.ImageFolder(data_dir + '/combined', transform=transformations)\n",
        "\n",
        "dataset_length = len(dataset)\n",
        "val_length = math.floor(dataset_length * 0.1)\n",
        "test_length = math.floor(dataset_length * 0.1)\n",
        "train_length = dataset_length - val_length - test_length\n",
        "\n",
        "train_set_cusnormtanh, val_set_cusnormtanh, test_set_cusnormtanh = torch.utils.data.random_split(dataset, [train_length, val_length, test_length])\n",
        "\n",
        "train_loader_cusnormtanh = DataLoader(train_set_cusnormtanh, batch_size = 100, shuffle=True)\n",
        "val_loader_cusnormtanh = DataLoader(val_set_cusnormtanh, shuffle=False)\n",
        "test_loader_cusnormtanh = DataLoader(test_set_cusnormtanh, shuffle=False)\n",
        "\n",
        "model_cusnormtanh = CustomCNN_withNormTanh(3, 2).to(device)\n",
        "\n",
        "train_acc, valid_acc, labels, predictions = train_and_eval(model_cusnormtanh, train_loader_cusnormtanh, val_loader_cusnormtanh, 20, 0.001)\n",
        "print(compute_metrics(labels, predictions))\n",
        "plot_accuracy(train_acc, valid_acc, \"Custom with batch normalization and tanh\")"
      ],
      "metadata": {
        "colab": {
          "base_uri": "https://localhost:8080/",
          "height": 1000
        },
        "id": "vCZZXm3YiOeu",
        "outputId": "7cf0c71a-7794-4013-d8e3-874a2cc04922"
      },
      "execution_count": null,
      "outputs": [
        {
          "output_type": "stream",
          "name": "stdout",
          "text": [
            "Epoch: 0, Time: 0:00:17.620969, Training loss: 1.2709438800811768\n",
            "Training accuracy: 78.0, Validation accuracy: 74.0\n",
            "Epoch: 1, Time: 0:00:35.881706, Training loss: 0.48634791374206543\n",
            "Training accuracy: 81.0, Validation accuracy: 82.0\n",
            "Epoch: 2, Time: 0:00:53.695691, Training loss: 0.40143704414367676\n",
            "Training accuracy: 83.0, Validation accuracy: 79.0\n",
            "Epoch: 3, Time: 0:01:13.642148, Training loss: 0.3248874545097351\n",
            "Training accuracy: 88.0, Validation accuracy: 81.0\n",
            "Epoch: 4, Time: 0:01:31.277723, Training loss: 0.27333205938339233\n",
            "Training accuracy: 87.0, Validation accuracy: 79.0\n",
            "Epoch: 5, Time: 0:01:48.666910, Training loss: 0.24636958539485931\n",
            "Training accuracy: 92.0, Validation accuracy: 82.0\n",
            "Epoch: 6, Time: 0:02:07.233281, Training loss: 0.20369109511375427\n",
            "Training accuracy: 93.0, Validation accuracy: 83.0\n",
            "Epoch: 7, Time: 0:02:24.725724, Training loss: 0.16965003311634064\n",
            "Training accuracy: 96.0, Validation accuracy: 78.0\n",
            "Epoch: 8, Time: 0:02:43.170730, Training loss: 0.14478012919425964\n",
            "Training accuracy: 96.0, Validation accuracy: 78.0\n",
            "Epoch: 9, Time: 0:03:00.689646, Training loss: 0.15099507570266724\n",
            "Training accuracy: 95.0, Validation accuracy: 77.0\n",
            "Epoch: 10, Time: 0:03:18.319754, Training loss: 0.12656435370445251\n",
            "Training accuracy: 97.0, Validation accuracy: 83.0\n",
            "Epoch: 11, Time: 0:03:36.380372, Training loss: 0.10445259511470795\n",
            "Training accuracy: 98.0, Validation accuracy: 84.0\n",
            "Epoch: 12, Time: 0:03:53.953979, Training loss: 0.10229317843914032\n",
            "Training accuracy: 98.0, Validation accuracy: 81.0\n",
            "Epoch: 13, Time: 0:04:12.405637, Training loss: 0.079625703394413\n",
            "Training accuracy: 98.0, Validation accuracy: 84.0\n",
            "Epoch: 14, Time: 0:04:29.878062, Training loss: 0.07522089779376984\n",
            "Training accuracy: 99.0, Validation accuracy: 80.0\n",
            "Epoch: 15, Time: 0:04:47.960063, Training loss: 0.0602855421602726\n",
            "Training accuracy: 99.0, Validation accuracy: 78.0\n",
            "Epoch: 16, Time: 0:05:05.687874, Training loss: 0.04756436124444008\n",
            "Training accuracy: 99.0, Validation accuracy: 83.0\n",
            "Epoch: 17, Time: 0:05:23.228239, Training loss: 0.038844719529151917\n",
            "Training accuracy: 100.0, Validation accuracy: 86.0\n",
            "Epoch: 18, Time: 0:05:41.749216, Training loss: 0.032133154571056366\n",
            "Training accuracy: 99.0, Validation accuracy: 80.0\n",
            "Epoch: 19, Time: 0:05:59.059965, Training loss: 0.0336310975253582\n",
            "Training accuracy: 100.0, Validation accuracy: 81.0\n",
            "{'conf_matrix': array([[36,  8],\n",
            "       [11, 45]]), 'accuracy': 0.81}\n"
          ]
        },
        {
          "output_type": "display_data",
          "data": {
            "text/plain": [
              "<Figure size 640x480 with 1 Axes>"
            ],
            "image/png": "[encoded data removed]"
          },
          "metadata": {}
        }
      ]
    },
    {
      "cell_type": "markdown",
      "source": [
        "### Check model with test data"
      ],
      "metadata": {
        "id": "IT2ysiMuqb7q"
      }
    },
    {
      "cell_type": "code",
      "source": [
        "from sklearn import metrics\n",
        "\n",
        "test_accuracy, labels, predictions = evaluate(model_cusnormtanh, test_loader_cusnormtanh)\n",
        "metrics_calc = compute_metrics(labels, predictions)\n",
        "print(labels)\n",
        "print(predictions)\n",
        "cm = metrics.ConfusionMatrixDisplay(confusion_matrix = metrics_calc['conf_matrix'], display_labels = test_set_cusnorm.dataset.classes)\n",
        "cm.plot()\n",
        "plt.show()"
      ],
      "metadata": {
        "colab": {
          "base_uri": "https://localhost:8080/",
          "height": 623
        },
        "id": "qtanNcTNqbBi",
        "outputId": "59f0c5a9-1481-49c7-d794-ce2a69341d57"
      },
      "execution_count": null,
      "outputs": [
        {
          "output_type": "stream",
          "name": "stdout",
          "text": [
            "[1. 0. 1. 1. 0. 0. 0. 0. 0. 0. 1. 0. 1. 0. 0. 1. 0. 1. 0. 0. 1. 1. 1. 0.\n",
            " 0. 0. 0. 1. 0. 1. 1. 0. 1. 1. 0. 0. 1. 0. 1. 1. 0. 0. 0. 0. 0. 1. 0. 1.\n",
            " 1. 1. 0. 0. 1. 0. 0. 1. 0. 1. 1. 0. 1. 0. 0. 1. 1. 0. 0. 0. 0. 0. 0. 1.\n",
            " 1. 1. 0. 0. 1. 0. 1. 1. 1. 1. 1. 0. 1. 0. 1. 0. 0. 0. 1. 1. 1. 0. 1. 1.\n",
            " 1. 1. 1. 0.]\n",
            "[1. 1. 1. 1. 1. 1. 0. 0. 0. 0. 1. 0. 1. 0. 0. 1. 0. 1. 0. 1. 1. 1. 1. 0.\n",
            " 0. 0. 1. 1. 0. 1. 1. 0. 1. 1. 1. 0. 0. 0. 1. 1. 0. 0. 0. 0. 1. 1. 0. 1.\n",
            " 0. 1. 0. 0. 1. 0. 0. 1. 1. 1. 1. 0. 1. 1. 1. 1. 1. 0. 0. 0. 1. 0. 0. 1.\n",
            " 1. 1. 0. 0. 1. 0. 1. 1. 1. 1. 1. 0. 1. 0. 1. 0. 1. 0. 1. 1. 1. 0. 1. 1.\n",
            " 1. 1. 1. 0.]\n"
          ]
        },
        {
          "output_type": "display_data",
          "data": {
            "text/plain": [
              "<Figure size 640x480 with 2 Axes>"
            ],
            "image/png": "[encoded data removed]"
          },
          "metadata": {}
        }
      ]
    }
  ]
}