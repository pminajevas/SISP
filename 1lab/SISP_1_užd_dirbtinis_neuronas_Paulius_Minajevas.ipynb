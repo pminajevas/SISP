{
  "nbformat": 4,
  "nbformat_minor": 0,
  "metadata": {
    "colab": {
      "provenance": []
    },
    "kernelspec": {
      "name": "python3",
      "display_name": "Python 3"
    },
    "language_info": {
      "name": "python"
    }
  },
  "cells": [
    {
      "cell_type": "markdown",
      "source": [
        "# 1 laboratorinis (Dirbtinis neuronas) 2110599 Paulius Minajevas"
      ],
      "metadata": {
        "id": "lEi1fIhy2te3"
      }
    },
    {
      "cell_type": "markdown",
      "source": [
        "## Dirbtinis neuronas\n",
        "\n",
        "galimos aktyvacijos funkcijos: \"sigmoid\" [LT: \"sigmoidinė\"], \"threshold\" [LT: \"slenkstinė\"]"
      ],
      "metadata": {
        "id": "1Tbki8Z8-EBg"
      }
    },
    {
      "cell_type": "code",
      "execution_count": null,
      "metadata": {
        "id": "J0RVS34u9DgF"
      },
      "outputs": [],
      "source": [
        "import numpy as np\n",
        "\n",
        "class Neuron:\n",
        "    def __init__(self, weights, bias, activation_function):\n",
        "        self.weights = np.array(weights)\n",
        "        self.bias = bias\n",
        "        self.activation_function = activation_function\n",
        "\n",
        "    def activation(self, x):\n",
        "        if self.activation_function == 'threshold':\n",
        "            return 1 if x >= 0 else 0\n",
        "        elif self.activation_function == 'sigmoid':\n",
        "            return 1 / (1 + np.exp(-x))\n",
        "        else:\n",
        "            raise ValueError(\"Invalid activation function\")\n",
        "\n",
        "    def predict(self, inputs):\n",
        "        total_input = np.dot(self.weights, inputs) + self.bias\n",
        "        output = self.activation(total_input)\n",
        "        if self.activation_function == 'sigmoid':\n",
        "            output = round(output)\n",
        "        return output"
      ]
    },
    {
      "cell_type": "markdown",
      "source": [
        "## Svorių radimo metodikų įgyvendinimas"
      ],
      "metadata": {
        "id": "57I4A1dS-vnE"
      }
    },
    {
      "cell_type": "code",
      "source": [
        "import random\n",
        "\n",
        "def find_weights_manual(data, function, min_val = -1, max_val = 1, step = .1, top = 5):\n",
        "    for w1 in np.arange(min_val * 10, (max_val + 1) * 10, step * 10)/10:\n",
        "        for w2 in np.arange(min_val * 10, (max_val + 1) * 10, step * 10)/10:\n",
        "            for b in np.arange(min_val * 10, (max_val + 1) * 10, step * 10)/10:\n",
        "                neuron = Neuron([w1, w2], b, activation_function=function)\n",
        "                if all(neuron.predict([x1, x2]) == t for x1, x2, t in data):\n",
        "                    print(f\"Manual weight search. Activation: {function}. Suitable weights w1={w1}, w2={w2}, bias={b}\")\n",
        "                    if (top > 1):\n",
        "                      top -= 1\n",
        "                    else:\n",
        "                      return\n",
        "    print(f\"Manual weight search. Activation: {function}. No suitable weights and bias found. Increase ranges or decrease step\")\n",
        "    return\n",
        "\n",
        "def find_weights_random(data, function, trials=1000, min_val = -1, max_val = 1, top = 5):\n",
        "    for _ in range(trials):\n",
        "        w1 = round(random.uniform(min_val, max_val), 1)\n",
        "        w2 = round(random.uniform(min_val, max_val), 1)\n",
        "        b = round(random.uniform(min_val, max_val), 1)\n",
        "        neuron = Neuron([w1, w2], b, activation_function=function)\n",
        "        if all(neuron.predict([x1, x2]) == t for x1, x2, t in data):\n",
        "            print(f\"Random weight search. Activation: {function}. Suitable weights w1={w1}, w2={w2}, bias={b}\")\n",
        "            if (top > 1):\n",
        "              top -= 1\n",
        "            else:\n",
        "              return\n",
        "    print(f\"Random weight search. Activation: {function}. No suitable weights and bias found. Increase trials\")\n",
        "    return"
      ],
      "metadata": {
        "id": "3ukLh5-H-00L"
      },
      "execution_count": null,
      "outputs": []
    },
    {
      "cell_type": "markdown",
      "source": [
        "## Eksperimentas 1.a."
      ],
      "metadata": {
        "id": "HWFuL5luAlBj"
      }
    },
    {
      "cell_type": "code",
      "source": [
        "# Input data\n",
        "# (x1, x2, t)\n",
        "data = [\n",
        "    (-0.2, 0.5, 0),\n",
        "    (0.2, -0.7, 0),\n",
        "    (0.8, -0.8, 1),\n",
        "    (0.8, 1, 1)\n",
        "]\n",
        "\n",
        "find_weights_manual(data, 'threshold')\n",
        "find_weights_random(data, 'threshold')\n"
      ],
      "metadata": {
        "colab": {
          "base_uri": "https://localhost:8080/"
        },
        "id": "mTiC-VT4FZ3F",
        "outputId": "5f0abb56-644e-4389-ce61-fdf48cf1ab17"
      },
      "execution_count": null,
      "outputs": [
        {
          "output_type": "stream",
          "name": "stdout",
          "text": [
            "Manual weight search. Activation: threshold. Suitable weights w1=0.2, w2=0.0, bias=-0.1\n",
            "Manual weight search. Activation: threshold. Suitable weights w1=0.3, w2=0.0, bias=-0.2\n",
            "Manual weight search. Activation: threshold. Suitable weights w1=0.3, w2=0.0, bias=-0.1\n",
            "Manual weight search. Activation: threshold. Suitable weights w1=0.3, w2=0.1, bias=-0.1\n",
            "Manual weight search. Activation: threshold. Suitable weights w1=0.3, w2=0.1, bias=0.0\n",
            "Manual weight search. Activation: threshold. Suitable weights w1=0.4, w2=-0.1, bias=-0.2\n",
            "Random weight search. Activation: threshold. Suitable weights w1=0.6, w2=-0.1, bias=-0.2\n",
            "Random weight search. Activation: threshold. Suitable weights w1=0.8, w2=0.0, bias=-0.6\n",
            "Random weight search. Activation: threshold. Suitable weights w1=0.4, w2=0.1, bias=-0.1\n",
            "Random weight search. Activation: threshold. Suitable weights w1=0.9, w2=0.3, bias=-0.1\n",
            "Random weight search. Activation: threshold. Suitable weights w1=0.4, w2=0.0, bias=-0.2\n",
            "Random weight search. Activation: threshold. Suitable weights w1=0.8, w2=0.3, bias=-0.3\n"
          ]
        }
      ]
    },
    {
      "cell_type": "markdown",
      "source": [
        "## Eksperimentas 1.b."
      ],
      "metadata": {
        "id": "rGs4gFgWNBOK"
      }
    },
    {
      "cell_type": "code",
      "source": [
        "# Input data\n",
        "# (x1, x2, t)\n",
        "data = [\n",
        "    (-0.2, 0.5, 0),\n",
        "    (0.2, -0.7, 0),\n",
        "    (0.8, -0.8, 1),\n",
        "    (0.8, 1, 1)\n",
        "]\n",
        "\n",
        "find_weights_manual(data, 'sigmoid')\n",
        "find_weights_random(data, 'sigmoid')"
      ],
      "metadata": {
        "colab": {
          "base_uri": "https://localhost:8080/"
        },
        "id": "9fn3buOjNC8x",
        "outputId": "1f1e089a-e9c0-42e2-da30-aba46b490266"
      },
      "execution_count": null,
      "outputs": [
        {
          "output_type": "stream",
          "name": "stdout",
          "text": [
            "Manual weight search. Activation: sigmoid. Suitable weights w1=0.2, w2=0.0, bias=-0.1\n",
            "Manual weight search. Activation: sigmoid. Suitable weights w1=0.3, w2=0.0, bias=-0.2\n",
            "Manual weight search. Activation: sigmoid. Suitable weights w1=0.3, w2=0.0, bias=-0.1\n",
            "Manual weight search. Activation: sigmoid. Suitable weights w1=0.3, w2=0.1, bias=-0.1\n",
            "Manual weight search. Activation: sigmoid. Suitable weights w1=0.3, w2=0.1, bias=0.0\n",
            "Manual weight search. Activation: sigmoid. Suitable weights w1=0.4, w2=-0.1, bias=-0.2\n",
            "Manual weight search. Activation: sigmoid. Suitable weights w1=0.4, w2=0.0, bias=-0.3\n",
            "Manual weight search. Activation: sigmoid. Suitable weights w1=0.4, w2=0.0, bias=-0.2\n",
            "Manual weight search. Activation: sigmoid. Suitable weights w1=0.4, w2=0.0, bias=-0.1\n",
            "Manual weight search. Activation: sigmoid. Suitable weights w1=0.4, w2=0.1, bias=-0.2\n",
            "Manual weight search. Activation: sigmoid. Suitable weights w1=0.4, w2=0.1, bias=-0.1\n",
            "Random weight search. Activation: sigmoid. Suitable weights w1=0.8, w2=-0.1, bias=-0.5\n",
            "Random weight search. Activation: sigmoid. Suitable weights w1=0.9, w2=0.4, bias=-0.3\n",
            "Random weight search. Activation: sigmoid. Suitable weights w1=1.0, w2=0.6, bias=-0.2\n",
            "Random weight search. Activation: sigmoid. Suitable weights w1=0.6, w2=-0.1, bias=-0.3\n",
            "Random weight search. Activation: sigmoid. Suitable weights w1=0.8, w2=0.4, bias=-0.3\n",
            "Random weight search. Activation: sigmoid. Suitable weights w1=0.8, w2=0.3, bias=-0.2\n"
          ]
        }
      ]
    },
    {
      "cell_type": "markdown",
      "source": [
        "## Grafinis sprendimas"
      ],
      "metadata": {
        "id": "3MR_u_bS2ql-"
      }
    },
    {
      "cell_type": "code",
      "source": [
        "import numpy as np\n",
        "import matplotlib.pyplot as plt\n",
        "\n",
        "w1_values = np.arange(-4, 11, 1) / 10\n",
        "w2_values = np.arange(-4, 11, 1) / 10\n",
        "\n",
        "w1, w2 = np.meshgrid(w1_values, w2_values)\n",
        "\n",
        "ineq1 = -0.2 * w1 + 0.5 * w2\n",
        "ineq2 = 0.2 * w1 - 0.7 * w2\n",
        "ineq3 = 0.8 * w1 - 0.8 * w2\n",
        "ineq4 = 0.8 * w1 + w2\n",
        "\n",
        "fig = plt.figure()\n",
        "ax = fig.add_subplot(1, 1, 1)\n",
        "\n",
        "major_ticks = np.arange(-10, 11, 1) / 10\n",
        "minor_ticks = np.arange(-20, 20, 1) / 20\n",
        "\n",
        "ax.set_xticks(major_ticks)\n",
        "ax.set_xticks(minor_ticks, minor=True)\n",
        "ax.set_yticks(major_ticks)\n",
        "ax.set_yticks(minor_ticks, minor=True)\n",
        "\n",
        "ax.grid(which='both')\n",
        "\n",
        "plt.contourf(w1, w2, ineq1, levels=[-np.inf, 0], colors=['black'], alpha=0.25)\n",
        "plt.contourf(w1, w2, ineq2, levels=[-np.inf, 0], colors=['black'], alpha=0.25)\n",
        "plt.contourf(w1, w2, ineq3, levels=[0, np.inf], colors=['black'], alpha=0.25)\n",
        "plt.contourf(w1, w2, ineq4, levels=[0, np.inf], colors=['black'], alpha=0.25)\n",
        "\n",
        "plt.xlabel('w1')\n",
        "plt.ylabel('w2')\n",
        "plt.title('Possible weight regions')\n",
        "plt.grid(True)\n",
        "plt.show()"
      ],
      "metadata": {
        "colab": {
          "base_uri": "https://localhost:8080/",
          "height": 472
        },
        "id": "G0S4SldYQZ8r",
        "outputId": "83c410f6-ae77-4406-fec1-f568135979f2"
      },
      "execution_count": null,
      "outputs": [
        {
          "output_type": "display_data",
          "data": {
            "text/plain": [
              "<Figure size 640x480 with 1 Axes>"
            ],
            "image/png": "[encoded data removed]"
          },
          "metadata": {}
        }
      ]
    },
    {
      "cell_type": "markdown",
      "source": [
        "Grafinių sprendinių patikra"
      ],
      "metadata": {
        "id": "1XZX2ReWekZ_"
      }
    },
    {
      "cell_type": "code",
      "source": [
        "w1 = float(input('Enter w1: '))\n",
        "w2 = float(input('Enter w2: '))\n",
        "\n",
        "data = [\n",
        "    (-0.2, 0.5, 0),\n",
        "    (0.2, -0.7, 0),\n",
        "    (0.8, -0.8, 1),\n",
        "    (0.8, 1, 1)\n",
        "]\n",
        "\n",
        "neuron = Neuron([w1, w2], 0, 'threshold')\n",
        "if all(neuron.predict([x1, x2]) == t for x1, x2, t in data):\n",
        "  print('Values are valid solution')"
      ],
      "metadata": {
        "colab": {
          "base_uri": "https://localhost:8080/"
        },
        "id": "B3uvJVajrxsz",
        "outputId": "0ef83b1e-c89c-40c4-d2a0-3270caf31c63"
      },
      "execution_count": null,
      "outputs": [
        {
          "output_type": "stream",
          "name": "stdout",
          "text": [
            "Enter w1: 0.3\n",
            "Enter w2: 0.1\n",
            "Values are valid solution\n"
          ]
        }
      ]
    }
  ]
}